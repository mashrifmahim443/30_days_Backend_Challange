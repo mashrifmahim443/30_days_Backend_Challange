{
 "cells": [
  {
   "cell_type": "code",
   "execution_count": 27,
   "id": "86a484b0",
   "metadata": {},
   "outputs": [
    {
     "name": "stdout",
     "output_type": "stream",
     "text": [
      "None\n",
      "jawad\n"
     ]
    }
   ],
   "source": [
    "person = [\n",
    "    {\"name\":\"mahim\",\"roll\":667092,\"dept\":\"cst\"},\n",
    "    {\"name\":\"jawad\",\"roll\":667099,\"dept\":\"EEE\"}\n",
    "]\n",
    "\n",
    "first_person = person[0]\n",
    "first_person_name = first_person.get(\"home\")\n",
    "print(first_person_name)\n",
    "\n",
    "\n",
    "second_person = person[1]\n",
    "second_person_name=second_person.get(\"name\")\n",
    "print(second_person_name)"
   ]
  },
  {
   "cell_type": "code",
   "execution_count": null,
   "id": "a070ee65",
   "metadata": {},
   "outputs": [
    {
     "name": "stdout",
     "output_type": "stream",
     "text": [
      "child age is20\n",
      "childs name is ninit\n"
     ]
    }
   ],
   "source": [
    "author = {\n",
    "    \"name\":\"Humaion Ahmed\",\n",
    "    \"books\":[\"one\",\"two\"],\n",
    "    \"children\":[\n",
    "        {\"name\":\"nuhash\",\"age\":20,\"class\":\"HSC\"},\n",
    "        {\"name\":\"ninit\",\"age\":20,\"class\":\"SSC\"}\n",
    "        ]\n",
    "}\n",
    "\n",
    "authors_children = author.get('children')\n",
    "print(authors_children)\n",
    "\n",
    "child_1 = authors_children[0]\n",
    "print(child_1)\n",
    "\n",
    "child_1_name = child_1.get(\"name\")\n",
    "print(child_1_name)\n",
    "\n",
    "child_2 = authors_children[1]\n",
    "print(child_2)\n",
    "\n",
    "child_2_name = child_2.get(\"name\")\n",
    "print(child_2_name)\n",
    "\n",
    "#or alternative\n",
    "\n",
    "\n",
    "age=author.get(\"children\")[0].get(\"age\")\n",
    "print(f\"child age is{age}\")\n",
    "\n",
    "name=author.get(\"children\")[1].get(\"name\")\n",
    "print(f\"childs name is {name}\")"
   ]
  },
  {
   "cell_type": "code",
   "execution_count": 56,
   "id": "3f9af9dd",
   "metadata": {},
   "outputs": [
    {
     "name": "stdout",
     "output_type": "stream",
     "text": [
      "False\n"
     ]
    }
   ],
   "source": [
    "name = \"mahim\"\n",
    "\n",
    "username = name is None\n",
    "\n",
    "print(username)\n"
   ]
  },
  {
   "cell_type": "code",
   "execution_count": null,
   "id": "f200b56a",
   "metadata": {},
   "outputs": [],
   "source": []
  }
 ],
 "metadata": {
  "kernelspec": {
   "display_name": "Python 3",
   "language": "python",
   "name": "python3"
  },
  "language_info": {
   "codemirror_mode": {
    "name": "ipython",
    "version": 3
   },
   "file_extension": ".py",
   "mimetype": "text/x-python",
   "name": "python",
   "nbconvert_exporter": "python",
   "pygments_lexer": "ipython3",
   "version": "3.10.11"
  }
 },
 "nbformat": 4,
 "nbformat_minor": 5
}
